{
  "nbformat": 4,
  "nbformat_minor": 0,
  "metadata": {
    "colab": {
      "provenance": [],
      "collapsed_sections": [
        "yGXOgyG70R17",
        "qylNUuxmQUzq",
        "ZlcF8gIdjZ6t",
        "y1fLchcRq-mT"
      ]
    },
    "kernelspec": {
      "name": "python3",
      "display_name": "Python 3"
    },
    "language_info": {
      "name": "python"
    }
  },
  "cells": [
    {
      "cell_type": "markdown",
      "metadata": {
        "id": "view-in-github"
      },
      "source": [
        "<a href=\"https://colab.research.google.com/github/ycaparicioa/MetNumUN2023I/blob/main/Lab9/Group2_Taylor_ln_x_plus_one.ipynb\" target=\"_parent\"><img src=\"https://colab.research.google.com/assets/colab-badge.svg\" alt=\"Open In Colab\"/></a>"
      ]
    },
    {
      "cell_type": "markdown",
      "source": [
        "Juan David Rodríguez Gómez\n",
        "\n",
        "Jonathan David Velosa Lozano\n",
        "\n",
        "Anderson Steven Mateus López"
      ],
      "metadata": {
        "id": "zoeSCVu8gpEH"
      }
    },
    {
      "cell_type": "markdown",
      "metadata": {
        "id": "ZuGY2wUTjFDm"
      },
      "source": [
        "# Taylor series of $ln(x+1)$\n",
        "\n",
        "\n",
        "$$ ln(x+1) = \\sum_{n=0}^{\\infty} (-1)^{n-1}\\frac{x^{n}}{n} $$\n",
        "\n"
      ]
    },
    {
      "cell_type": "markdown",
      "metadata": {
        "id": "qylNUuxmQUzq"
      },
      "source": [
        "#What is value of the partial Taylor series of $ln(x+1)$ up to the  $n$-th term of $ln(x+1)$ about $0$ (Maclaurin  series) for $x=2$\n",
        "\n",
        "$$ ln(x+1) \\approx \\sum_{i=1}^{n} (-1)^{i-1}\\frac{x^{i}}{i}  = ln(x+1) - \\frac{x^2}{2}+ \\frac{x^4}{4} +\\cdots+ (-1)^{n-1}\\frac{x^{n}}{n}$$\n",
        "\n",
        "Because (n−1)!/n!=1/n"
      ]
    },
    {
      "cell_type": "code",
      "metadata": {
        "colab": {
          "base_uri": "https://localhost:8080/"
        },
        "id": "UZyEw-hiQNU7",
        "outputId": "cd479cec-f225-44f5-83c6-61b9aba2da63"
      },
      "source": [
        "# ∑_{i=0}^n  x^i/i\n",
        "import numpy as np\n",
        "import math\n",
        "\n",
        "n = 10\n",
        "x = 2\n",
        "ln_x = 0\n",
        "for i in range(1,n+1):\n",
        "    ln_x += ((-1)**(i-1))*(x**i/(i))\n",
        "    print(i, 'ln_x ≈ ∑_{i=1}^'+str(i),'[(-1)^('+str(i)+'-1)][(x^'+str(i)+'/'+str(i)+')] =',ln_x)\n",
        "print('ln(x+1) = ',np.log(x+1))"
      ],
      "execution_count": null,
      "outputs": [
        {
          "output_type": "stream",
          "name": "stdout",
          "text": [
            "1 ln_x ≈ ∑_{i=1}^1 [(-1)^(1-1)][(x^1/1)] = 2.0\n",
            "2 ln_x ≈ ∑_{i=1}^2 [(-1)^(2-1)][(x^2/2)] = 0.0\n",
            "3 ln_x ≈ ∑_{i=1}^3 [(-1)^(3-1)][(x^3/3)] = 2.6666666666666665\n",
            "4 ln_x ≈ ∑_{i=1}^4 [(-1)^(4-1)][(x^4/4)] = -1.3333333333333335\n",
            "5 ln_x ≈ ∑_{i=1}^5 [(-1)^(5-1)][(x^5/5)] = 5.066666666666666\n",
            "6 ln_x ≈ ∑_{i=1}^6 [(-1)^(6-1)][(x^6/6)] = -5.6\n",
            "7 ln_x ≈ ∑_{i=1}^7 [(-1)^(7-1)][(x^7/7)] = 12.685714285714285\n",
            "8 ln_x ≈ ∑_{i=1}^8 [(-1)^(8-1)][(x^8/8)] = -19.314285714285717\n",
            "9 ln_x ≈ ∑_{i=1}^9 [(-1)^(9-1)][(x^9/9)] = 37.57460317460317\n",
            "10 ln_x ≈ ∑_{i=1}^10 [(-1)^(10-1)][(x^10/10)] = -64.82539682539684\n",
            "ln(x+1) =  1.0986122886681098\n"
          ]
        }
      ]
    },
    {
      "cell_type": "markdown",
      "metadata": {
        "id": "ZlcF8gIdjZ6t"
      },
      "source": [
        "# What is the minimun $n$ for which the $n+1$-th term of the Taylor series for $ln(x+1)$ about $0$ (Maclaurin  series) for $x$, is in absolute value less than  $\\epsilon$.\n",
        "\n",
        "$$\\min_{n \\in \\mathbb{N}}\\left|\\frac{x^{n+1}}{(n+1)}\\right| < \\epsilon$$"
      ]
    },
    {
      "cell_type": "code",
      "metadata": {
        "id": "_8y-XrmvcCLf",
        "colab": {
          "base_uri": "https://localhost:8080/"
        },
        "outputId": "28720291-5a17-4134-b7e0-09fdc811d925"
      },
      "source": [
        "import math\n",
        "import numpy as np\n",
        "x = 0.2\n",
        "epsilon = 10**(-5)\n",
        "ln_x = 0\n",
        "print(\"n\".rjust(10),\" \",\"ln_x ≈ ∑_{i=1}^n (-1)^n+1*x^i/i \".center(21),\" \",\"delta =(-1)^n+1*x^i/i  \".center(21),\" \",\"error\".center(14),\" \",\"epsilon\".center(20))\n",
        "error = 1\n",
        "i = 1\n",
        "while  epsilon <= error:\n",
        "  delta = ((-1)**(i+1))*(x**i/(i))\n",
        "  ln_x += delta\n",
        "  error = abs(np.log(x+1) - ln_x)\n",
        "  print(format(i, '10'),\"  \", format(ln_x, '.10f'),\"  \",format(delta, '.10f'),\" \",format(error, '.10f'),\"  \",\"{:.0e}\".format(epsilon))\n",
        "  i = i+1"
      ],
      "execution_count": null,
      "outputs": [
        {
          "output_type": "stream",
          "name": "stdout",
          "text": [
            "         n   ln_x ≈ ∑_{i=1}^n (-1)^n+1*x^i/i    delta =(-1)^n+1*x^i/i         error              epsilon       \n",
            "         1    0.2000000000    0.2000000000   0.0176784432    1e-05\n",
            "         2    0.1800000000    -0.0200000000   0.0023215568    1e-05\n",
            "         3    0.1826666667    0.0026666667   0.0003451099    1e-05\n",
            "         4    0.1822666667    -0.0004000000   0.0000548901    1e-05\n",
            "         5    0.1823306667    0.0000640000   0.0000091099    1e-05\n"
          ]
        }
      ]
    },
    {
      "cell_type": "code",
      "source": [
        "# Returns Min n, |∑_{i=1}^{n}  x^i/i! - math.exp(x)| < epsilon and ∑_{i=0}^{n} x^i/i!\n",
        "import numpy as np\n",
        "import math\n",
        "\n",
        "x = -4\n",
        "epsilon = 10**(-5)\n",
        "\n",
        "e_to_x = 0\n",
        "\n",
        "print(\"n\".rjust(10),\" \",\"∑_{i=0}^n x^i/i!\".center(21),\" \",\"delta =x^i/i! \".center(21),\" \",\"error\".center(14),\" \",\"epsilon\".center(20))\n",
        "error = 1\n",
        "i = 0\n",
        "while  epsilon <= error:\n",
        "  delta =  x**i / math.factorial(i)\n",
        "  e_to_x += delta\n",
        "  error = abs(math.exp(x) - e_to_x)\n",
        "  print(format(i, '10'),\"  \", format(e_to_x, '.18f'),\"  \",format(delta, '.17f'),\" \",format(error, '.17f'),\"  \",\"{:.0e}\".format(epsilon))\n",
        "  i = i+1\n",
        "print(\"n =\",i-1)\n",
        "print(\"x =\",x)\n",
        "print('e_to_x ≈ ∑_{i=0}^'+str(i-1),'x^i/i! =',e_to_x)\n",
        "print(\"epsilon =\",\"{:.0e}\".format(epsilon))\n",
        "print('math.exp(x) = ',math.exp(x))"
      ],
      "metadata": {
        "colab": {
          "base_uri": "https://localhost:8080/"
        },
        "id": "RCTOg1YU7xYr",
        "outputId": "6d3fe4e2-93cc-448b-df45-d2fc3392a54b"
      },
      "execution_count": null,
      "outputs": [
        {
          "output_type": "stream",
          "name": "stdout",
          "text": [
            "         n      ∑_{i=0}^n x^i/i!         delta =x^i/i!           error              epsilon       \n",
            "         0    1.000000000000000000    1.00000000000000000   0.98168436111126578    1e-05\n",
            "         1    -3.000000000000000000    -4.00000000000000000   3.01831563888873422    1e-05\n",
            "         2    5.000000000000000000    8.00000000000000000   4.98168436111126578    1e-05\n",
            "         3    -5.666666666666666075    -10.66666666666666607   5.68498230555540029    1e-05\n",
            "         4    5.000000000000000000    10.66666666666666607   4.98168436111126578    1e-05\n",
            "         5    -3.533333333333333215    -8.53333333333333321   3.55164897222206744    1e-05\n",
            "         6    2.155555555555555891    5.68888888888888911   2.13723991666682167    1e-05\n",
            "         7    -1.095238095238094900    -3.25079365079365079   1.11355373412682912    1e-05\n",
            "         8    0.530158730158730496    1.62539682539682540   0.51184309126999628    1e-05\n",
            "         9    -0.192239858906525285    -0.72239858906525578   0.21055549779525945    1e-05\n",
            "        10    0.096719576719576983    0.28895943562610227   0.07840393783084280    1e-05\n",
            "        11    -0.008356581689914766    -0.10507615840949175   0.02667222057864894    1e-05\n",
            "        12    0.026668804446582484    0.03502538613649725   0.00835316555784830    1e-05\n",
            "        13    0.015891762558429487    -0.01077704188815300   0.00242387633030469    1e-05\n",
            "        14    0.018970917383616059    0.00307915482518657   0.00065527849488188    1e-05\n",
            "        15    0.018149809430232974    -0.00082110795338309   0.00016582945850121    1e-05\n",
            "        16    0.018355086418578744    0.00020527698834577   0.00003944752984457    1e-05\n",
            "        17    0.018306785950732679    -0.00004830046784606   0.00000885293800150    1e-05\n",
            "n = 17\n",
            "x = -4\n",
            "e_to_x ≈ ∑_{i=0}^17 x^i/i! = 0.01830678595073268\n",
            "epsilon = 1e-05\n",
            "math.exp(x) =  0.01831563888873418\n"
          ]
        }
      ]
    },
    {
      "cell_type": "markdown",
      "metadata": {
        "id": "y1fLchcRq-mT"
      },
      "source": [
        "#What is the minimun $n$ for which the error using the Lagrange's formula of the Residual $E_n$ of the Taylos series for $ln(x+1)$ about $0$ (Maclaurin  series), is less than  $\\epsilon$.\n"
      ]
    },
    {
      "cell_type": "code",
      "metadata": {
        "colab": {
          "base_uri": "https://localhost:8080/"
        },
        "id": "hBLCJ5mUqu4T",
        "outputId": "c8800f2c-ac3e-4372-bc23-339db10f8c18"
      },
      "source": [
        "import math\n",
        "\n",
        "x_value = 0.1\n",
        "epsilon = 10 ** (-8)\n",
        "ln_of_x_1 = 0\n",
        "i = 1\n",
        "error = x_value ** (i + 1) / ((i + 1) * (x_value + 1) ** (i + 1))\n",
        "\n",
        "print(\"n\".rjust(10), \"∑_{i=1}^n  x^i/i!\".center(21), \"error=ln(x+1) x^(n+1)/(n+1)!\".center(20), \"epsilon\".center(20))\n",
        "print(format(i, '10'), \"  \", format(ln_of_x_1, '.17f'), \"  \", format(error, '.17f'), \"  \", format(epsilon, '.17f'))\n",
        "\n",
        "while epsilon <= abs(error):\n",
        "    ln_of_x_1 += ((-1) ** (i - 1)) * (x_value ** i / i)\n",
        "    error = x_value ** (i + 1) / ((i + 1) * (x_value + 1) ** (i + 1))\n",
        "\n",
        "    print(format(i, '10'), \"  \", format(ln_of_x_1, '.17f'), \"  \", format(error, '.17f'), \"  \", format(epsilon, '.17f'))\n",
        "    i += 1\n",
        "\n",
        "print(\"n =\", i - 1)\n",
        "print('x =', x_value)\n",
        "print('ln_of_x_1 ≈ ∑_{i=1}^' + str(i - 1), '[(-1)^(i-1)][(x^i/i)] =', ln_of_x_1)\n",
        "print('ln(x+1) =', math.log(x_value + 1))"
      ],
      "execution_count": null,
      "outputs": [
        {
          "output_type": "stream",
          "name": "stdout",
          "text": [
            "         n   ∑_{i=1}^n  x^i/i!   error=ln(x+1) x^(n+1)/(n+1)!       epsilon       \n",
            "         1    0.00000000000000000    0.00413223140495868    0.00000001000000000\n",
            "         1    0.10000000000000001    0.00413223140495868    0.00000001000000000\n",
            "         2    0.09500000000000000    0.00025043826696719    0.00000001000000000\n",
            "         3    0.09533333333333334    0.00001707533638413    0.00000001000000000\n",
            "         4    0.09530833333333334    0.00000124184264612    0.00000001000000000\n",
            "         5    0.09531033333333334    0.00000009407898834    0.00000001000000000\n",
            "         6    0.09531016666666668    0.00000000733083026    0.00000001000000000\n",
            "n = 6\n",
            "x = 0.1\n",
            "ln_of_x_1 ≈ ∑_{i=1}^6 [(-1)^(i-1)][(x^i/i)] = 0.09531016666666668\n",
            "ln(x+1) = 0.09531017980432493\n"
          ]
        }
      ]
    },
    {
      "cell_type": "code",
      "metadata": {
        "colab": {
          "base_uri": "https://localhost:8080/"
        },
        "id": "wzZvyboyM6oe",
        "outputId": "960946d4-6298-48ab-a479-3470195eca4d"
      },
      "source": [
        "import math\n",
        "\n",
        "x = -0.1\n",
        "epsilon = 10 ** (-8)\n",
        "ln_of_x_1 = 0\n",
        "i = 1\n",
        "\n",
        "print(\"n\".rjust(10), \"∑_{i=1}^n  x^i/i!\".center(21), \"error=ln(x+1) x^(n+1)/(n+1)!\".center(20), \"epsilon\".center(20))\n",
        "print(format(i, '10'), \"  \", format(ln_of_x_1, '.17f'), \"  \", format(0, '.17f'), \"  \", format(epsilon, '.17f'))\n",
        "\n",
        "while True:\n",
        "    term = ((-1) ** (i - 1)) * (x ** i / i)\n",
        "    ln_of_x_1 += term\n",
        "    error = abs(x ** (i + 1) / ((i + 1) * (x + 1) ** (i + 1)))\n",
        "\n",
        "    if epsilon > error:\n",
        "        break\n",
        "\n",
        "    print(format(i, '10'), \"  \", format(ln_of_x_1, '.17f'), \"  \", format(error, '.17f'), \"  \", format(epsilon, '.17f'))\n",
        "    i += 1\n",
        "\n",
        "print(\"n =\", i - 1)\n",
        "print('x =', x)\n",
        "print('ln_of_x_1 ≈ ∑_{i=1}^' + str(i - 1), '[(-1)^(i-1)][(x^i/i)] =', ln_of_x_1)\n",
        "print('ln(x+1) =', math.log(x + 1))"
      ],
      "execution_count": null,
      "outputs": [
        {
          "output_type": "stream",
          "name": "stdout",
          "text": [
            "         n   ∑_{i=1}^n  x^i/i!   error=ln(x+1) x^(n+1)/(n+1)!       epsilon       \n",
            "         1    0.00000000000000000    0.00000000000000000    0.00000001000000000\n",
            "         1    -0.10000000000000001    0.00617283950617284    0.00000001000000000\n",
            "         2    -0.10500000000000001    0.00045724737082762    0.00000001000000000\n",
            "         3    -0.10533333333333335    0.00003810394756897    0.00000001000000000\n",
            "         4    -0.10535833333333335    0.00000338701756169    0.00000001000000000\n",
            "         5    -0.10536033333333335    0.00000031361273719    0.00000001000000000\n",
            "         6    -0.10536050000000001    0.00000002986787973    0.00000001000000000\n",
            "n = 6\n",
            "x = -0.1\n",
            "ln_of_x_1 ≈ ∑_{i=1}^6 [(-1)^(i-1)][(x^i/i)] = -0.1053605142857143\n",
            "ln(x+1) = -0.10536051565782628\n"
          ]
        }
      ]
    },
    {
      "cell_type": "markdown",
      "metadata": {
        "id": "Vv6QfFh-8UGZ"
      },
      "source": [
        "# Error using the Lagrange's formula of the Residual $E_n$\n",
        "\n",
        "For the Taylor series for $f(x) = sin(x)$ about $c=0$ (Maclaurin)\n",
        "\n",
        "Se tiene que la derivada $n+1$ de $sin(x) $ es $f^{(n+1)}(x) = sin(x+\\frac{(n+1)\\pi}{2})$, entonces el error usado es:\n",
        "\n",
        "$$ E_n = \\frac{f^{(n+1)}(\\xi)}{(n+1)!}(x-c)^{(n+1)} = \\frac{sin(x+\\frac{(n+1)\\pi}{2})}{(n+1)!}x^{n+1} $$\n",
        "\n",
        "En valor absoluto puesto que solo se necesita su magnitud:\n",
        "\n",
        "$$ \\left|\\frac{sin(x+\\frac{(n+1)\\pi}{2})}{(n+1)!}x^{n+1}\\right| $$"
      ]
    },
    {
      "cell_type": "markdown",
      "source": [
        "## Taylor SympyLab"
      ],
      "metadata": {
        "id": "y5m98cPDgP39"
      }
    },
    {
      "cell_type": "code",
      "metadata": {
        "id": "h7GY4uApqKr7"
      },
      "source": [
        "from sympy import series, Symbol\n",
        "from sympy.functions import sin, cos, exp, log\n",
        "from sympy.plotting import plot\n",
        "import matplotlib.pyplot as plt\n",
        "import math"
      ],
      "execution_count": null,
      "outputs": []
    },
    {
      "cell_type": "code",
      "metadata": {
        "id": "Nnpm4V-AqdMs"
      },
      "source": [
        "# Define symbol\n",
        "x = Symbol('x')"
      ],
      "execution_count": null,
      "outputs": []
    },
    {
      "cell_type": "code",
      "metadata": {
        "id": "_bF3LYe8qmNp"
      },
      "source": [
        "# Function for Taylor Series Expansion\n",
        "\n",
        "def taylor(function, x0, n):\n",
        "    \"\"\"\n",
        "    Parameter \"function\" is our function which we want to approximate\n",
        "    \"x0\" is the point where to approximate\n",
        "    \"n\" is the order of approximation\n",
        "    \"\"\"\n",
        "    return function.series(x,x0,n).removeO()"
      ],
      "execution_count": null,
      "outputs": []
    },
    {
      "cell_type": "code",
      "metadata": {
        "id": "RHDTuup3q3r0",
        "colab": {
          "base_uri": "https://localhost:8080/"
        },
        "outputId": "434c5903-6202-47b1-a169-83d70777acd4"
      },
      "source": [
        "\n",
        "print('ln(x+1) ≅', taylor(log((x+1), math.e), 0, 4))"
      ],
      "execution_count": null,
      "outputs": [
        {
          "output_type": "stream",
          "name": "stdout",
          "text": [
            "ln(x+1) ≅ 0.333333333333333*x**3 - 0.5*x**2 + 1.0*x\n"
          ]
        }
      ]
    },
    {
      "cell_type": "code",
      "metadata": {
        "id": "WVlow_HJs9Uj",
        "colab": {
          "base_uri": "https://localhost:8080/"
        },
        "outputId": "716626f9-19dc-4dac-985a-407c78003789"
      },
      "source": [
        "print('ln(2) =', taylor(log(x+1), 0, 4).subs(x,1))"
      ],
      "execution_count": null,
      "outputs": [
        {
          "output_type": "stream",
          "name": "stdout",
          "text": [
            "ln(2) = 5/6\n"
          ]
        }
      ]
    },
    {
      "cell_type": "code",
      "metadata": {
        "colab": {
          "base_uri": "https://localhost:8080/"
        },
        "id": "NwDQSVhm2wv0",
        "outputId": "72fe55c0-04eb-4180-faff-510bdc7d2d3f"
      },
      "source": [
        "print('Taylor 0 ln(x+1) ≅', taylor(log(x+1), 0, 0))\n",
        "print('Taylor 1 ln((x+1) ≅', taylor(log(x+1), 0, 1))\n",
        "print('Taylor 2 ln((x+1) ≅', taylor(log(x+1), 0, 2))\n",
        "print('Taylor 3 ln((x+1) ≅', taylor(log(x+1), 0, 3))\n",
        "print('Taylor 4 ln((x+1) ≅', taylor(log(x+1), 0, 4))\n",
        "print('Taylor 5 ln((x+1) ≅', taylor(log(x+1), 0, 5))\n",
        "print('Taylor 6 ln((x+1) ≅', taylor(log(x+1), 0, 6))\n",
        "print('Taylor 7 ln((x+1) ≅', taylor(log(x+1), 0, 7))\n",
        "print('Taylor 8 ln((x+1) ≅', taylor(log(x+1), 0, 8))"
      ],
      "execution_count": null,
      "outputs": [
        {
          "output_type": "stream",
          "name": "stdout",
          "text": [
            "Taylor 0 ln(x+1) ≅ 0\n",
            "Taylor 1 ln((x+1) ≅ 0\n",
            "Taylor 2 ln((x+1) ≅ x\n",
            "Taylor 3 ln((x+1) ≅ -x**2/2 + x\n",
            "Taylor 4 ln((x+1) ≅ x**3/3 - x**2/2 + x\n",
            "Taylor 5 ln((x+1) ≅ -x**4/4 + x**3/3 - x**2/2 + x\n",
            "Taylor 6 ln((x+1) ≅ x**5/5 - x**4/4 + x**3/3 - x**2/2 + x\n",
            "Taylor 7 ln((x+1) ≅ -x**6/6 + x**5/5 - x**4/4 + x**3/3 - x**2/2 + x\n",
            "Taylor 8 ln((x+1) ≅ x**7/7 - x**6/6 + x**5/5 - x**4/4 + x**3/3 - x**2/2 + x\n"
          ]
        }
      ]
    },
    {
      "cell_type": "code",
      "metadata": {
        "colab": {
          "base_uri": "https://localhost:8080/"
        },
        "id": "YamVLCwY7N98",
        "outputId": "c1f46a20-b649-450d-830c-de59ffc9223a"
      },
      "source": [
        "print('Taylor 0 ln(x+1) ≅', taylor(log(x+1), 0, 0).subs(x+1,2),' = ',taylor(log(x+1), 0, 0).subs(x+1,2).evalf())\n",
        "print('Taylor 1 ln(x+1) ≅', taylor(log(x+1), 0, 1).subs(x+1,2),' = ',taylor(log(x+1), 0, 1).subs(x+1,2).evalf())\n",
        "print('Taylor 2 ln(x+1) ≅', taylor(log(x+1), 0, 2).subs(x+1,2),' = ',taylor(log(x+1), 0, 2).subs(x+1,2).evalf())\n",
        "print('Taylor 3 ln(x+1) ≅', taylor(log(x+1), 0, 3).subs(x+1,2),' = ',taylor(log(x+1), 0, 3).subs(x+1,2).evalf())\n",
        "print('Taylor 4 ln(x+1) ≅', taylor(log(x+1), 0, 4).subs(x+1,2),' = ',taylor(log(x+1), 0, 4).subs(x+1,2).evalf())\n",
        "print('Taylor 5 ln(x+1) ≅', taylor(log(x+1), 0, 5).subs(x+1,2),' = ',taylor(log(x+1), 0, 5).subs(x+1,2).evalf())\n",
        "print('Taylor 6 ln(x+1) ≅', taylor(log(x+1), 0, 6).subs(x+1,2),' = ',taylor(log(x+1), 0, 6).subs(x+1,2).evalf())\n",
        "print('Taylor 7 ln(x+1) ≅', taylor(log(x+1), 0, 8).subs(x+1,2),' = ',taylor(log(x+1), 0, 7).subs(x+1,2).evalf())"
      ],
      "execution_count": null,
      "outputs": [
        {
          "output_type": "stream",
          "name": "stdout",
          "text": [
            "Taylor 0 ln(x+1) ≅ 0  =  0\n",
            "Taylor 1 ln(x+1) ≅ 0  =  0\n",
            "Taylor 2 ln(x+1) ≅ x  =  x\n",
            "Taylor 3 ln(x+1) ≅ 1 - x**2/2  =  1.0 - 0.5*x**2\n",
            "Taylor 4 ln(x+1) ≅ x**3/3 - x**2/2 + 1  =  0.333333333333333*x**3 - 0.5*x**2 + 1.0\n",
            "Taylor 5 ln(x+1) ≅ -x**4/4 + x**3/3 - x**2/2 + 1  =  -0.25*x**4 + 0.333333333333333*x**3 - 0.5*x**2 + 1.0\n",
            "Taylor 6 ln(x+1) ≅ x**5/5 - x**4/4 + x**3/3 - x**2/2 + 1  =  0.2*x**5 - 0.25*x**4 + 0.333333333333333*x**3 - 0.5*x**2 + 1.0\n",
            "Taylor 7 ln(x+1) ≅ x**7/7 - x**6/6 + x**5/5 - x**4/4 + x**3/3 - x**2/2 + 1  =  -0.166666666666667*x**6 + 0.2*x**5 - 0.25*x**4 + 0.333333333333333*x**3 - 0.5*x**2 + 1.0\n"
          ]
        }
      ]
    }
  ]
}